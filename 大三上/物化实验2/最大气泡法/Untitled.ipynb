{
 "cells": [
  {
   "cell_type": "code",
   "execution_count": 1,
   "metadata": {},
   "outputs": [],
   "source": [
    "import matplotlib.pyplot as plt\n",
    "import numpy as np\n",
    "from sklearn import  linear_model\n",
    "#导入线性模型和多项式特征构造模块\n",
    "from sklearn.preprocessing import  PolynomialFeatures"
   ]
  },
  {
   "cell_type": "code",
   "execution_count": 3,
   "metadata": {},
   "outputs": [],
   "source": [
    "#定义x、y散点坐标\n",
    "datasets_X = [20,30,40,50,60,70]\n",
    "datasets_Y = [453,482,503,508,498,479]"
   ]
  },
  {
   "cell_type": "code",
   "execution_count": 4,
   "metadata": {},
   "outputs": [
    {
     "name": "stdout",
     "output_type": "stream",
     "text": [
      "Cofficients: [ 0.          6.37285714 -0.065     ]\n",
      "intercept 350.9714285714323\n"
     ]
    },
    {
     "data": {
      "image/png": "[encoded data removed]",
      "text/plain": [
       "<Figure size 432x288 with 1 Axes>"
      ]
     },
     "metadata": {
      "needs_background": "light"
     },
     "output_type": "display_data"
    }
   ],
   "source": [
    "#求得datasets_X的长度，即为数据的总数。\n",
    "length =len(datasets_X)\n",
    "#将datasets_X转化为数组， 并变为二维，以符合线性回 归拟合函数输入参数要求\n",
    "datasets_X= np.array(datasets_X).reshape([length,1])\n",
    "#将datasets_Y转化为数组\n",
    "datasets_Y=np.array(datasets_Y)\n",
    "\n",
    "minX =min(datasets_X)\n",
    "maxX =max(datasets_X)\n",
    "#以数据datasets_X的最大值和最小值为范围，建立等差数列，方便后续画图。\n",
    "X=np.arange(minX,maxX).reshape([-1,1])\n",
    "#degree=2表示建立datasets_X的二 次多项式特征X_poly。\n",
    "poly_reg =PolynomialFeatures(degree=2)\n",
    "X_ploy =poly_reg.fit_transform(datasets_X)\n",
    "lin_reg_2=linear_model.LinearRegression()\n",
    "lin_reg_2.fit(X_ploy,datasets_Y)\n",
    "\n",
    "#查看回归方程系数\n",
    "print('Cofficients:',lin_reg_2.coef_)\n",
    "#查看回归方程截距\n",
    "print('intercept',lin_reg_2.intercept_)\n",
    "plt.scatter(datasets_X,datasets_Y,color='red')\n",
    "plt.plot(X,lin_reg_2.predict(poly_reg.fit_transform(X)),color='blue')\n",
    "plt.xlabel('Area')\n",
    "plt.ylabel('Price')\n",
    "plt.show()"
   ]
  },
  {
   "cell_type": "code",
   "execution_count": 5,
   "metadata": {},
   "outputs": [
    {
     "data": {
      "text/plain": [
       "array([[20],\n",
       "       [30],\n",
       "       [40],\n",
       "       [50],\n",
       "       [60],\n",
       "       [70]])"
      ]
     },
     "execution_count": 5,
     "metadata": {},
     "output_type": "execute_result"
    }
   ],
   "source": [
    "datasets_X"
   ]
  },
  {
   "cell_type": "code",
   "execution_count": null,
   "metadata": {},
   "outputs": [],
   "source": [
    "#用3次多项式拟合\n",
    "f1 = np.polyfit(x, y, 3)\n",
    "print('f1 is :\\n',f1)\n",
    "p1 = np.poly1d(f1)\n",
    "print('p1 is :\\n',p1)\n",
    "\n",
    "yvals = p1(x)  #拟合y值\n",
    "print('yvals is :\\n',yvals)\n",
    "#绘图\n",
    "plot1 = plt.plot(x, y, 's',label='original values')\n",
    "plot2 = plt.plot(x, yvals, 'r',label='polyfit values')\n",
    "plt.xlabel(r'$c(C_4H_{10}O)/mol·dm^{-3}$')\n",
    "plt.ylabel(r'$\\gamma/10^{-2}N·m^{-1}$')\n",
    "plt.legend(loc=4) #指定legend的位置右下角\n",
    "plt.savefig('polyfit')"
   ]
  }
 ],
 "metadata": {
  "kernelspec": {
   "display_name": "Python 3",
   "language": "python",
   "name": "python3"
  },
  "language_info": {
   "codemirror_mode": {
    "name": "ipython",
    "version": 3
   },
   "file_extension": ".py",
   "mimetype": "text/x-python",
   "name": "python",
   "nbconvert_exporter": "python",
   "pygments_lexer": "ipython3",
   "version": "3.7.7"
  }
 },
 "nbformat": 4,
 "nbformat_minor": 4
}
