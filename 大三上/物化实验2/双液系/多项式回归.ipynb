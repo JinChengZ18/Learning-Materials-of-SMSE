{
 "cells": [
  {
   "cell_type": "code",
   "execution_count": 2,
   "metadata": {},
   "outputs": [],
   "source": [
    "import matplotlib.pyplot as plt\n",
    "import numpy as np\n",
    "from sklearn import  linear_model\n",
    "#导入线性模型和多项式特征构造模块\n",
    "from sklearn.preprocessing import  PolynomialFeatures"
   ]
  },
  {
   "cell_type": "code",
   "execution_count": 7,
   "metadata": {},
   "outputs": [
    {
     "name": "stdout",
     "output_type": "stream",
     "text": [
      "Cofficients: [  0.         -84.60309019  67.04924608]\n",
      "intercept 94.76600341780141\n"
     ]
    },
    {
     "data": {
      "image/png": "[encoded data removed]",
      "text/plain": [
       "<Figure size 432x288 with 1 Axes>"
      ]
     },
     "metadata": {
      "needs_background": "light"
     },
     "output_type": "display_data"
    }
   ],
   "source": [
    "datasets_X = [1.03878557, 0.85364178, 0.81361069, 0.77232863, 0.57092221,\n",
    "       0.34824928, 0.19437978]\n",
    "datasets_Y = [80.38, 78.52, 64.18, 63.3, 71.04, 77.67, 77.89]\n",
    "\n",
    "\n",
    "#求得datasets_X的长度，即为数据的总数。\n",
    "length =len(datasets_X)\n",
    "#将datasets_X转化为数组，并变为二维，以符合线性回归拟合函数输入参数要求\n",
    "datasets_X= np.array(datasets_X).reshape([length,1])\n",
    "#将datasets_Y转化为数组\n",
    "datasets_Y=np.array(datasets_Y)\n",
    "\n",
    "minX =min(datasets_X)\n",
    "maxX =max(datasets_X)\n",
    "#以数据datasets_X的最大值和最小值为范围，建立等差数列，方便后续画图。\n",
    "X=np.arange(minX,maxX,0.001).reshape([-1,1])\n",
    "#degree=2表示建立datasets_X的二 次多项式特征X_poly。\n",
    "poly_reg =PolynomialFeatures(degree=2)\n",
    "X_ploy =poly_reg.fit_transform(datasets_X)\n",
    "lin_reg_2=linear_model.LinearRegression()\n",
    "lin_reg_2.fit(X_ploy,datasets_Y)\n",
    "\n",
    "#查看回归方程系数\n",
    "print('Cofficients:',lin_reg_2.coef_)\n",
    "#查看回归方程截距\n",
    "print('intercept',lin_reg_2.intercept_)\n",
    "plt.scatter(datasets_X,datasets_Y,color='red')\n",
    "plt.plot(X,lin_reg_2.predict(poly_reg.fit_transform(X)),color='blue')\n",
    "plt.xlabel('Area')\n",
    "plt.ylabel('Price')\n",
    "plt.show()"
   ]
  },
  {
   "cell_type": "code",
   "execution_count": 4,
   "metadata": {},
   "outputs": [
    {
     "data": {
      "text/plain": [
       "array([80.85422847])"
      ]
     },
     "execution_count": 4,
     "metadata": {},
     "output_type": "execute_result"
    }
   ],
   "source": [
    "lin_reg_2.predict(poly_reg.fit_transform(X))"
   ]
  },
  {
   "cell_type": "code",
   "execution_count": 5,
   "metadata": {},
   "outputs": [
    {
     "data": {
      "text/plain": [
       "array([0.19437978])"
      ]
     },
     "execution_count": 5,
     "metadata": {},
     "output_type": "execute_result"
    }
   ],
   "source": [
    "minX"
   ]
  },
  {
   "cell_type": "code",
   "execution_count": 6,
   "metadata": {},
   "outputs": [
    {
     "data": {
      "text/plain": [
       "array([1.03878557])"
      ]
     },
     "execution_count": 6,
     "metadata": {},
     "output_type": "execute_result"
    }
   ],
   "source": [
    "maxX"
   ]
  }
 ],
 "metadata": {
  "kernelspec": {
   "display_name": "Python 3",
   "language": "python",
   "name": "python3"
  },
  "language_info": {
   "codemirror_mode": {
    "name": "ipython",
    "version": 3
   },
   "file_extension": ".py",
   "mimetype": "text/x-python",
   "name": "python",
   "nbconvert_exporter": "python",
   "pygments_lexer": "ipython3",
   "version": "3.7.7"
  }
 },
 "nbformat": 4,
 "nbformat_minor": 4
}
