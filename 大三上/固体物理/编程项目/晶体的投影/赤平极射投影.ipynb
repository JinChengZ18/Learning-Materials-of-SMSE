{
 "cells": [
  {
   "cell_type": "code",
   "execution_count": 1,
   "metadata": {},
   "outputs": [],
   "source": [
    "import random\n",
    "import numpy as np\n",
    "from pyecharts import options as opts\n",
    "from pyecharts.charts import Polar\n",
    "from pyecharts.faker import Faker"
   ]
  },
  {
   "cell_type": "code",
   "execution_count": 6,
   "metadata": {},
   "outputs": [],
   "source": [
    "def c_scale(A):\n",
    "    A = np.array(A)\n",
    "    n_dim = A.shape[1]; n_size = A.shape[0]\n",
    "    scale2 = np.zeros(n_size)\n",
    "    for j in range(n_dim):\n",
    "        for i in range(n_size):\n",
    "            scale2[i] += A[i,j]**2\n",
    "    scale = scale2 ** 0.5\n",
    "    return scale\n",
    "\n",
    "def normalize(A): # 二维数组归一化\n",
    "    A = np.array(A)\n",
    "    scale = c_scale(A)\n",
    "    A = np.divide(A.T,scale).T\n",
    "    \n",
    "    return A"
   ]
  },
  {
   "cell_type": "code",
   "execution_count": 10,
   "metadata": {},
   "outputs": [
    {
     "data": {
      "text/plain": [
       "array([[0.26726124, 0.53452248, 0.80178373]])"
      ]
     },
     "execution_count": 10,
     "metadata": {},
     "output_type": "execute_result"
    }
   ],
   "source": [
    "A = [[1,2,3]]\n",
    "normalize(A)"
   ]
  },
  {
   "cell_type": "code",
   "execution_count": null,
   "metadata": {},
   "outputs": [],
   "source": []
  },
  {
   "cell_type": "code",
   "execution_count": null,
   "metadata": {},
   "outputs": [],
   "source": [
    "data = [(i, random.randint(1, 360)) for i in range(101)]"
   ]
  },
  {
   "cell_type": "code",
   "execution_count": 21,
   "metadata": {},
   "outputs": [
    {
     "name": "stderr",
     "output_type": "stream",
     "text": [
      "c:\\program files\\python37\\lib\\site-packages\\pyecharts-1.8.1-py3.7.egg\\pyecharts\\charts\\chart.py:14: PendingDeprecationWarning: pyecharts 所有图表类型将在 v1.9.0 版本开始强制使用 ChartItem 进行数据项配置 :)\n",
      "  super().__init__(init_opts=init_opts)\n"
     ]
    }
   ],
   "source": [
    "c = (\n",
    "    Polar()\n",
    "    .add_schema(\n",
    "    radiusaxis_opts=opts.AxisTickOpts(is_show=False),\n",
    "    angleaxis_opts=opts.AngleAxisOpts(is_clockwise=True, max_=360),\n",
    "    )\n",
    "    .add(\"\", data, type_=\"scatter\", label_opts=opts.LabelOpts(is_show=False))\n",
    "    .set_global_opts(\n",
    "        title_opts=opts.TitleOpts(title=\"Polar-Scatter0\"))\n",
    "    .render(\"polar_scatter_1.html\")\n",
    ")"
   ]
  }
 ],
 "metadata": {
  "kernelspec": {
   "display_name": "Python 3",
   "language": "python",
   "name": "python3"
  },
  "language_info": {
   "codemirror_mode": {
    "name": "ipython",
    "version": 3
   },
   "file_extension": ".py",
   "mimetype": "text/x-python",
   "name": "python",
   "nbconvert_exporter": "python",
   "pygments_lexer": "ipython3",
   "version": "3.7.7"
  }
 },
 "nbformat": 4,
 "nbformat_minor": 4
}
