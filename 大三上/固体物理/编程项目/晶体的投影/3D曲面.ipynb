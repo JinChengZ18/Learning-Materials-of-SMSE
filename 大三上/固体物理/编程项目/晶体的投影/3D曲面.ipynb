{
 "cells": [
  {
   "cell_type": "code",
   "execution_count": 1,
   "metadata": {},
   "outputs": [],
   "source": [
    "import math\n",
    "from typing import Union\n",
    "\n",
    "import pyecharts.options as opts\n",
    "from pyecharts.charts import Surface3D"
   ]
  },
  {
   "cell_type": "code",
   "execution_count": 2,
   "metadata": {},
   "outputs": [
    {
     "name": "stderr",
     "output_type": "stream",
     "text": [
      "c:\\program files\\python37\\lib\\site-packages\\pyecharts-1.8.1-py3.7.egg\\pyecharts\\charts\\chart.py:14: PendingDeprecationWarning: pyecharts 所有图表类型将在 v1.9.0 版本开始强制使用 ChartItem 进行数据项配置 :)\n",
      "  super().__init__(init_opts=init_opts)\n"
     ]
    },
    {
     "data": {
      "text/plain": [
       "'C:\\\\Users\\\\Administrator\\\\Desktop\\\\大三上\\\\固体物理\\\\编程项目\\\\晶体的投影\\\\surface_wave.html'"
      ]
     },
     "execution_count": 2,
     "metadata": {},
     "output_type": "execute_result"
    }
   ],
   "source": [
    "\"\"\"\n",
    "Gallery 使用 pyecharts 1.1.0\n",
    "参考地址: https://echarts.baidu.com/examples/editor.html?c=surface-wave&gl=1\n",
    "\n",
    "目前无法实现的功能:\n",
    "\n",
    "1、暂时无法设置光滑表面 wireframe\n",
    "2、暂时无法把 visualmap 进行隐藏\n",
    "\"\"\"\n",
    "\n",
    "\n",
    "def float_range(start: int, end: int, step: Union[int, float], round_number: int = 2):\n",
    "    \"\"\"\n",
    "    浮点数 range\n",
    "    :param start: 起始值\n",
    "    :param end: 结束值\n",
    "    :param step: 步长\n",
    "    :param round_number: 精度\n",
    "    :return: 返回一个 list\n",
    "    \"\"\"\n",
    "    temp = []\n",
    "    while True:\n",
    "        if start < end:\n",
    "            temp.append(round(start, round_number))\n",
    "            start += step\n",
    "        else:\n",
    "            break\n",
    "    return temp\n",
    "\n",
    "\n",
    "def surface3d_data():\n",
    "    for t0 in float_range(-3, 3, 0.05):\n",
    "        y = t0\n",
    "        for t1 in float_range(-3, 3, 0.05):\n",
    "            x = t1\n",
    "            z = math.sin(x ** 2 + y ** 2) * x / 3.14\n",
    "            yield [x, y, z]\n",
    "\n",
    "\n",
    "(\n",
    "    Surface3D(init_opts=opts.InitOpts(width=\"1600px\", height=\"800px\"))\n",
    "    .add(\n",
    "        series_name=\"\",\n",
    "        shading=\"color\",\n",
    "        data=list(surface3d_data()),\n",
    "        xaxis3d_opts=opts.Axis3DOpts(type_=\"value\"),\n",
    "        yaxis3d_opts=opts.Axis3DOpts(type_=\"value\"),\n",
    "        grid3d_opts=opts.Grid3DOpts(width=100, height=40, depth=100),\n",
    "    )\n",
    "    .set_global_opts(\n",
    "        visualmap_opts=opts.VisualMapOpts(\n",
    "            dimension=2,\n",
    "            max_=1,\n",
    "            min_=-1,\n",
    "            range_color=[\n",
    "                \"#313695\",\n",
    "                \"#4575b4\",\n",
    "                \"#74add1\",\n",
    "                \"#abd9e9\",\n",
    "                \"#e0f3f8\",\n",
    "                \"#ffffbf\",\n",
    "                \"#fee090\",\n",
    "                \"#fdae61\",\n",
    "                \"#f46d43\",\n",
    "                \"#d73027\",\n",
    "                \"#a50026\",\n",
    "            ],\n",
    "        )\n",
    "    )\n",
    "    .render(\"surface_wave.html\")\n",
    ")"
   ]
  }
 ],
 "metadata": {
  "kernelspec": {
   "display_name": "Python 3",
   "language": "python",
   "name": "python3"
  },
  "language_info": {
   "codemirror_mode": {
    "name": "ipython",
    "version": 3
   },
   "file_extension": ".py",
   "mimetype": "text/x-python",
   "name": "python",
   "nbconvert_exporter": "python",
   "pygments_lexer": "ipython3",
   "version": "3.7.7"
  }
 },
 "nbformat": 4,
 "nbformat_minor": 4
}
