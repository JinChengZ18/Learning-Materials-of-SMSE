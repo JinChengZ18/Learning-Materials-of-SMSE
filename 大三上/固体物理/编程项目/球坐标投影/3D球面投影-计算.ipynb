{
 "cells": [
  {
   "cell_type": "code",
   "execution_count": 1,
   "metadata": {},
   "outputs": [],
   "source": [
    "import math\n",
    "import numpy as np"
   ]
  },
  {
   "cell_type": "code",
   "execution_count": 2,
   "metadata": {},
   "outputs": [],
   "source": [
    "def c_scale(A):\n",
    "    A = np.array(A)\n",
    "    n_dim = A.shape[1]; n_size = A.shape[0]\n",
    "    scale2 = np.zeros(n_size)\n",
    "    for j in range(n_dim):\n",
    "        for i in range(n_size):\n",
    "            scale2[i] += A[i,j]**2\n",
    "    scale = scale2 ** 0.5\n",
    "    return scale\n",
    "\n",
    "def normalize(A): # 二维数组归一化\n",
    "    A = np.array(A)\n",
    "    scale = c_scale(A)\n",
    "    A = np.divide(A.T,scale).T\n",
    "    \n",
    "    return A"
   ]
  },
  {
   "cell_type": "code",
   "execution_count": 8,
   "metadata": {},
   "outputs": [],
   "source": [
    "def cal_point_dict(input_str_list,i,j,k): # i,j,k为晶格基矢\n",
    "    points = []; points_dicts = []\n",
    "    for input_str in input_str_list:\n",
    "        input_str=input_str.replace('[',''); input_str=input_str.replace(']','')\n",
    "        try:\n",
    "            data = input_str.split(' ')\n",
    "            for i in range(len(data)):\n",
    "                data[i] = float(data[i])\n",
    "            point = data[0]*np.array(i)+data[1]*np.array(j)+data[2]*np.array(k) # 求解投影点\n",
    "            points.append(point)\n",
    "        except:\n",
    "            data = input_str.split(',')\n",
    "            for i in range(len(data)):\n",
    "                data[i] = float(data[i])\n",
    "            point = data[0]*np.array(i)+data[1]*np.array(j)+data[2]*np.array(k) # 求解投影点\n",
    "            points.append(point)\n",
    "        points_p = normalize(points)\n",
    "    for i in range(len(points_p)):\n",
    "        points_dict={}\n",
    "        points_dict['name']=input_str_list[i]\n",
    "        points_dict['value']=points_p[i].tolist()\n",
    "        points_dicts.append(points_dict)\n",
    "    return points_dicts"
   ]
  },
  {
   "cell_type": "code",
   "execution_count": 29,
   "metadata": {},
   "outputs": [],
   "source": [
    "def cal_crystal_zone(zone_axis_str,i,j,k): # 求晶带大圆\n",
    "    crystal_zone_dict = {}\n",
    "    crystal_zone_dict['name'] = zone_axis_str\n",
    "    zone_axis_str=zone_axis_str.replace('[',''); zone_axis_str=zone_axis_str.replace(']','')\n",
    "    try:\n",
    "        data = zone_axis_str.split(' ')\n",
    "        for i in range(len(data)):\n",
    "            data[i] = float(data[i])\n",
    "        zone_axis = np.zeros(3) # 晶带轴\n",
    "        zone_axis = data[0]*np.array(i)+data[1]*np.array(j)+data[2]*np.array(k)\n",
    "    except:\n",
    "        data = zone_axis_str.split(',')\n",
    "        for i in range(len(data)):\n",
    "            data[i] = float(data[i])\n",
    "        zone_axis = np.zeros(3) # 晶带轴\n",
    "        zone_axis = data[0]*np.array(i)+data[1]*np.array(j)+data[2]*np.array(k)\n",
    "    zone_axis = np.array(normalize([zone_axis])[0])\n",
    "    try:\n",
    "        l = np.cross(zone_axis,np.array([1,0,0]))\n",
    "    except:\n",
    "        try:\n",
    "            l = np.cross(zone_axis,np.array([0,1,0]))\n",
    "        except:\n",
    "            l = np.cross(zone_axis,np.array([0,0,1]))\n",
    "    l = normalize([l])[0]\n",
    "    m = np.cross(l,zone_axis)\n",
    "    crystal_zone_dict['l'] = l.tolist(); crystal_zone_dict['m'] = m.tolist()\n",
    "    print(crystal_zone_dict)\n",
    "    thetas = 2 * np.pi * np.linspace(0.0, 1.0, num=1000)\n",
    "    \n",
    "    points = [] # 晶带大圆\n",
    "    for theta in thetas:\n",
    "        point = np.cos(theta)*m + np.sin(theta)*l\n",
    "        points.append(point)\n",
    "    \n",
    "    return np.array(points)"
   ]
  },
  {
   "cell_type": "code",
   "execution_count": 9,
   "metadata": {
    "scrolled": true
   },
   "outputs": [
    {
     "data": {
      "text/plain": [
       "[{'name': '[0 0 1]', 'value': [0.0, 0.0, 1.0]},\n",
       " {'name': '[1 0 0]',\n",
       "  'value': [0.5773502691896258, 0.5773502691896258, 0.5773502691896258]},\n",
       " {'name': '[0 1 0]', 'value': [0.0, 1.0, 0.0]},\n",
       " {'name': '[0 0 -1]', 'value': [0.0, 0.0, -1.0]},\n",
       " {'name': '[-1 0 0]',\n",
       "  'value': [-0.5773502691896258, -0.5773502691896258, -0.5773502691896258]},\n",
       " {'name': '[0 -1 0]', 'value': [0.0, -1.0, 0.0]},\n",
       " {'name': '[1 0 1]',\n",
       "  'value': [0.48507125007266594, 0.48507125007266594, 0.7276068751089989]},\n",
       " {'name': '[0 1 1]', 'value': [0.0, 0.7071067811865475, 0.7071067811865475]},\n",
       " {'name': '[1 1 0]',\n",
       "  'value': [0.48507125007266594, 0.7276068751089989, 0.48507125007266594]},\n",
       " {'name': '[-1 0 -1]',\n",
       "  'value': [-0.48507125007266594, -0.48507125007266594, -0.7276068751089989]},\n",
       " {'name': '[0 -1 -1]',\n",
       "  'value': [0.0, -0.7071067811865475, -0.7071067811865475]},\n",
       " {'name': '[-1 -1 0]',\n",
       "  'value': [-0.48507125007266594, -0.7276068751089989, -0.48507125007266594]},\n",
       " {'name': '[1 0 -1]',\n",
       "  'value': [0.6666666666666666, 0.6666666666666666, 0.3333333333333333]},\n",
       " {'name': '[0 1 -1]', 'value': [0.0, 0.7071067811865475, -0.7071067811865475]},\n",
       " {'name': '[1 -1 0]',\n",
       "  'value': [0.6666666666666666, 0.3333333333333333, 0.6666666666666666]},\n",
       " {'name': '[-1 0 1]',\n",
       "  'value': [-0.6666666666666666, -0.6666666666666666, -0.3333333333333333]},\n",
       " {'name': '[0 -1 1]', 'value': [0.0, -0.7071067811865475, 0.7071067811865475]},\n",
       " {'name': '[-1 1 0]',\n",
       "  'value': [-0.6666666666666666, -0.3333333333333333, -0.6666666666666666]},\n",
       " {'name': '[1 1 1]',\n",
       "  'value': [0.42640143271122083, 0.6396021490668313, 0.6396021490668313]},\n",
       " {'name': '[-1 1 1]',\n",
       "  'value': [-0.8164965809277261, -0.4082482904638631, -0.4082482904638631]},\n",
       " {'name': '[1 -1 1]',\n",
       "  'value': [0.5345224838248488, 0.2672612419124244, 0.8017837257372732]},\n",
       " {'name': '[1 1 -1]',\n",
       "  'value': [0.5345224838248488, 0.8017837257372732, 0.2672612419124244]},\n",
       " {'name': '[-1 -1 -1]',\n",
       "  'value': [-0.42640143271122083, -0.6396021490668313, -0.6396021490668313]},\n",
       " {'name': '[1 -1 -1]',\n",
       "  'value': [0.8164965809277261, 0.4082482904638631, 0.4082482904638631]},\n",
       " {'name': '[-1 1 -1]',\n",
       "  'value': [-0.5345224838248488, -0.2672612419124244, -0.8017837257372732]},\n",
       " {'name': '[-1 -1 1]',\n",
       "  'value': [-0.5345224838248488, -0.8017837257372732, -0.2672612419124244]}]"
      ]
     },
     "execution_count": 9,
     "metadata": {},
     "output_type": "execute_result"
    }
   ],
   "source": [
    "# 要显示的晶面/晶向\n",
    "input_str_list = ['[0 0 1]','[1 0 0]','[0 1 0]','[0 0 -1]','[-1 0 0]','[0 -1 0]',\n",
    "                 '[1 0 1]','[0 1 1]','[1 1 0]','[-1 0 -1]','[0 -1 -1]','[-1 -1 0]',\n",
    "                 '[1 0 -1]','[0 1 -1]','[1 -1 0]','[-1 0 1]','[0 -1 1]','[-1 1 0]',\n",
    "                 '[1 1 1]','[-1 1 1]','[1 -1 1]','[1 1 -1]',\n",
    "                 '[-1 -1 -1]','[1 -1 -1]','[-1 1 -1]','[-1 -1 1]']\n",
    "# 定义 a1, a2, a3 为正空间的基矢\n",
    "a1=[1,0,0]; a2=[0,1,0]; a3=[0,0,1]\n",
    "points_dicts = cal_point_dict(input_str_list,a1,a2,a3)\n",
    "points_dicts # 将该数据复制到 球坐标.html 下"
   ]
  },
  {
   "cell_type": "code",
   "execution_count": 30,
   "metadata": {},
   "outputs": [
    {
     "name": "stdout",
     "output_type": "stream",
     "text": [
      "{'name': '[1 1 1]', 'l': [0.0, 0.7071067811865476, -0.7071067811865476], 'm': [0.904534033733291, -0.30151134457776363, -0.30151134457776363]}\n"
     ]
    }
   ],
   "source": [
    "zone_axis_str = '[1 1 1]'\n",
    "# 定义 a1, a2, a3 为正空间的基矢\n",
    "a1=[1,0,0]; a2=[0,1,0]; a3=[0,0,1]\n",
    "crystal_zone = cal_crystal_zone(zone_axis_str,a1,a2,a3) # 输出平面上的基矢"
   ]
  }
 ],
 "metadata": {
  "kernelspec": {
   "display_name": "Python 3",
   "language": "python",
   "name": "python3"
  },
  "language_info": {
   "codemirror_mode": {
    "name": "ipython",
    "version": 3
   },
   "file_extension": ".py",
   "mimetype": "text/x-python",
   "name": "python",
   "nbconvert_exporter": "python",
   "pygments_lexer": "ipython3",
   "version": "3.7.7"
  }
 },
 "nbformat": 4,
 "nbformat_minor": 4
}
