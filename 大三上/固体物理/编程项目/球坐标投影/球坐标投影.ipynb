{
 "cells": [
  {
   "cell_type": "code",
   "execution_count": 1,
   "metadata": {},
   "outputs": [],
   "source": [
    "import numpy as np\n",
    "import pyecharts.options as opts\n",
    "from pyecharts.charts import MapGlobe\n",
    "from pyecharts.faker import POPULATION\n"
   ]
  },
  {
   "cell_type": "code",
   "execution_count": 4,
   "metadata": {},
   "outputs": [
    {
     "name": "stderr",
     "output_type": "stream",
     "text": [
      "c:\\program files\\python37\\lib\\site-packages\\pyecharts-1.8.1-py3.7.egg\\pyecharts\\charts\\chart.py:14: PendingDeprecationWarning: pyecharts 所有图表类型将在 v1.9.0 版本开始强制使用 ChartItem 进行数据项配置 :)\n",
      "  super().__init__(init_opts=init_opts)\n"
     ]
    },
    {
     "data": {
      "text/plain": [
       "'C:\\\\Users\\\\Administrator\\\\Desktop\\\\大三上\\\\固体物理\\\\编程项目\\\\球坐标投影、\\\\球坐标'"
      ]
     },
     "execution_count": 4,
     "metadata": {},
     "output_type": "execute_result"
    }
   ],
   "source": [
    "data = [x for _, x in POPULATION[1:]]\n",
    "low, high = min(data), max(data)\n",
    "c = (\n",
    "    MapGlobe(init_opts=opts.InitOpts(theme='dark'))\n",
    "    .add_schema()\n",
    "    .add(\n",
    "        maptype=\"world\",\n",
    "        series_name=\"World Population\",\n",
    "        data_pair=POPULATION[1:],\n",
    "        is_map_symbol_show=False,\n",
    "        label_opts=opts.LabelOpts(is_show=False),\n",
    "    )\n",
    "    .set_global_opts(\n",
    "        visualmap_opts=opts.VisualMapOpts(\n",
    "            min_=low,\n",
    "            max_=high,\n",
    "            range_text=[\"max\", \"min\"],\n",
    "            is_calculable=True,\n",
    "            is_piecewise=True,\n",
    "            range_color=[\"lightskyblue\", \"yellow\", \"orangered\"],\n",
    "        )\n",
    "    )\n",
    ")\n",
    "c.render('球坐标')"
   ]
  }
 ],
 "metadata": {
  "kernelspec": {
   "display_name": "Python 3",
   "language": "python",
   "name": "python3"
  },
  "language_info": {
   "codemirror_mode": {
    "name": "ipython",
    "version": 3
   },
   "file_extension": ".py",
   "mimetype": "text/x-python",
   "name": "python",
   "nbconvert_exporter": "python",
   "pygments_lexer": "ipython3",
   "version": "3.7.7"
  }
 },
 "nbformat": 4,
 "nbformat_minor": 4
}
